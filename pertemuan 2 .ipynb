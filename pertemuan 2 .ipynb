{
  "nbformat": 4,
  "nbformat_minor": 0,
  "metadata": {
    "colab": {
      "provenance": [],
      "authorship_tag": "ABX9TyMxHZ8hNdaLnvZhZgdxK6kv",
      "include_colab_link": true
    },
    "kernelspec": {
      "name": "python3",
      "display_name": "Python 3"
    },
    "language_info": {
      "name": "python"
    }
  },
  "cells": [
    {
      "cell_type": "markdown",
      "metadata": {
        "id": "view-in-github",
        "colab_type": "text"
      },
      "source": [
        "<a href=\"https://colab.research.google.com/github/aldinoganteng16/PEMROGRAMAN-DASAR/blob/main/pertemuan%202%20.ipynb\" target=\"_parent\"><img src=\"https://colab.research.google.com/assets/colab-badge.svg\" alt=\"Open In Colab\"/></a>"
      ]
    },
    {
      "cell_type": "code",
      "execution_count": null,
      "metadata": {
        "id": "wxlUU7D9SqaR",
        "colab": {
          "base_uri": "https://localhost:8080/"
        },
        "outputId": "7ddaccdb-078b-4e08-9282-2ef9b068fade"
      },
      "outputs": [
        {
          "output_type": "stream",
          "name": "stdout",
          "text": [
            "<class 'bool'>\n",
            "<class 'bool'>\n"
          ]
        }
      ],
      "source": [
        "x = True\n",
        "print(type(x))\n",
        "\n",
        "\n",
        "x = False\n",
        "print(type(x))"
      ]
    },
    {
      "cell_type": "code",
      "source": [
        "x = 'polibatam'\n",
        "print(x[0])\n",
        "\n",
        "\n"
      ],
      "metadata": {
        "colab": {
          "base_uri": "https://localhost:8080/"
        },
        "id": "rJRu2i_Mapa1",
        "outputId": "73d359fe-aad0-4a29-d8f4-0891b490ab43"
      },
      "execution_count": null,
      "outputs": [
        {
          "output_type": "stream",
          "name": "stdout",
          "text": [
            "p\n"
          ]
        }
      ]
    },
    {
      "cell_type": "code",
      "source": [
        "x = 'Warnok_ganteng'\n",
        "\n",
        "\n",
        "print(x[2:])\n"
      ],
      "metadata": {
        "colab": {
          "base_uri": "https://localhost:8080/"
        },
        "id": "hMhFEowobmFQ",
        "outputId": "e6ffd3c5-a81a-45b0-806e-9295c4208137"
      },
      "execution_count": null,
      "outputs": [
        {
          "output_type": "stream",
          "name": "stdout",
          "text": [
            "rnok_ganteng\n"
          ]
        }
      ]
    },
    {
      "cell_type": "code",
      "source": [
        "name = \"aldino eka putra\"\n",
        "\n",
        "print(f\"Hello,nama saya {name}\")\n"
      ],
      "metadata": {
        "colab": {
          "base_uri": "https://localhost:8080/"
        },
        "id": "YEfj5pbscy4s",
        "outputId": "d124477f-65ae-4948-aa16-eeacf164e3c1"
      },
      "execution_count": null,
      "outputs": [
        {
          "output_type": "stream",
          "name": "stdout",
          "text": [
            "Hello,nama saya aldino eka putra\n"
          ]
        }
      ]
    },
    {
      "cell_type": "code",
      "source": [
        "name = \"aldino eka putra\"\n",
        "\n",
        "print(\"Nama saya %s\" % (name))\n",
        "\n"
      ],
      "metadata": {
        "colab": {
          "base_uri": "https://localhost:8080/"
        },
        "id": "CH_crzAhdwNF",
        "outputId": "eea6a66b-cec7-4a48-92b4-421e2073de9a"
      },
      "execution_count": null,
      "outputs": [
        {
          "output_type": "stream",
          "name": "stdout",
          "text": [
            "Nama saya aldino eka putra\n"
          ]
        }
      ]
    },
    {
      "cell_type": "code",
      "source": [
        "name = \"ahmad syahroni\"\n",
        "print(\"Nama saya {}\".format(name))"
      ],
      "metadata": {
        "colab": {
          "base_uri": "https://localhost:8080/"
        },
        "id": "Hm47f95-eGMb",
        "outputId": "653c626f-46fc-48b6-ccbe-7d1bbde2629c"
      },
      "execution_count": null,
      "outputs": [
        {
          "output_type": "stream",
          "name": "stdout",
          "text": [
            "Nama saya ahmad syahroni\n"
          ]
        }
      ]
    },
    {
      "cell_type": "code",
      "source": [
        "nama = \"andi\"\n",
        "\n",
        "\n",
        "\n",
        "print(\"nama saya :\", nama)"
      ],
      "metadata": {
        "colab": {
          "base_uri": "https://localhost:8080/"
        },
        "id": "qN5ZzweFcfgM",
        "outputId": "b15baf76-de6f-44e5-8bb3-45d67638adf7"
      },
      "execution_count": null,
      "outputs": [
        {
          "output_type": "stream",
          "name": "stdout",
          "text": [
            "nama saya : andi\n"
          ]
        }
      ]
    },
    {
      "cell_type": "code",
      "source": [
        "x = [1, 2.2,'Polibatam']\n",
        "\n",
        "\n",
        "\n",
        "print(type(x))"
      ],
      "metadata": {
        "colab": {
          "base_uri": "https://localhost:8080/"
        },
        "id": "bTftLHDofH9s",
        "outputId": "b18cdf65-02ac-49e9-c1d8-1c310e4d6dbe"
      },
      "execution_count": null,
      "outputs": [
        {
          "output_type": "stream",
          "name": "stdout",
          "text": [
            "<class 'list'>\n"
          ]
        }
      ]
    },
    {
      "cell_type": "code",
      "source": [
        "x = [1, 2.2, 'Dicoding']\n",
        "\n",
        "\n",
        "\n",
        "print(x)"
      ],
      "metadata": {
        "colab": {
          "base_uri": "https://localhost:8080/"
        },
        "id": "21WQduDLf7-s",
        "outputId": "59facbb8-9ff3-4ffe-ee4c-dd0b95464c82"
      },
      "execution_count": null,
      "outputs": [
        {
          "output_type": "stream",
          "name": "stdout",
          "text": [
            "[1, 2.2, 'Dicoding']\n"
          ]
        }
      ]
    },
    {
      "cell_type": "code",
      "source": [
        "x = [1, 'aldino ganteng', True, 1.0]\n",
        "\n",
        "\n",
        "\n",
        "print(x[2])"
      ],
      "metadata": {
        "colab": {
          "base_uri": "https://localhost:8080/"
        },
        "id": "yWvQBl0PgJIv",
        "outputId": "5d97d85f-956c-4717-ca69-b05cb0d37262"
      },
      "execution_count": null,
      "outputs": [
        {
          "output_type": "stream",
          "name": "stdout",
          "text": [
            "True\n"
          ]
        }
      ]
    },
    {
      "cell_type": "code",
      "source": [
        "x = [1, 2.2, 'dedek cantik']\n",
        "x[0] = 'hallo'\n",
        "\n",
        "\n",
        "\n",
        "print(x)"
      ],
      "metadata": {
        "colab": {
          "base_uri": "https://localhost:8080/"
        },
        "id": "LgBsD-EDgajM",
        "outputId": "277f9f93-0cf8-4177-aee3-02ca7f6b5bb7"
      },
      "execution_count": null,
      "outputs": [
        {
          "output_type": "stream",
          "name": "stdout",
          "text": [
            "['hallo', 2.2, 'dedek cantik']\n"
          ]
        }
      ]
    },
    {
      "cell_type": "code",
      "source": [
        "x = [\"laptop\", \"monitor\", \"mouse\", \"mousepad\", \"keyboard\", \"webcam\", \"micro USB\"]\n",
        "\n",
        "\n",
        "\n",
        "\n",
        "print(x[0:5:2])\n",
        "print(x[1:])\n",
        "print(x[:3])"
      ],
      "metadata": {
        "colab": {
          "base_uri": "https://localhost:8080/"
        },
        "id": "lr5IPqT2hMtw",
        "outputId": "bc6f92bd-903f-4518-b85c-a3a8d975591f"
      },
      "execution_count": null,
      "outputs": [
        {
          "output_type": "stream",
          "name": "stdout",
          "text": [
            "['laptop', 'mouse', 'keyboard']\n",
            "['monitor', 'mouse', 'mousepad', 'keyboard', 'webcam', 'micro USB']\n",
            "['laptop', 'monitor', 'mouse']\n"
          ]
        }
      ]
    },
    {
      "cell_type": "code",
      "source": [
        "x = (1, \"Polibatam\", 1+3j)\n",
        "print(type(x))"
      ],
      "metadata": {
        "colab": {
          "base_uri": "https://localhost:8080/"
        },
        "id": "1j8sCBGonD8A",
        "outputId": "8097c561-bcb6-489d-ff5e-840346d9c740"
      },
      "execution_count": null,
      "outputs": [
        {
          "output_type": "stream",
          "name": "stdout",
          "text": [
            "<class 'tuple'>\n"
          ]
        }
      ]
    },
    {
      "cell_type": "code",
      "source": [
        "x = (5, 'program', 1+3j)\n",
        "\n",
        "\n",
        "\n",
        "print(x[1])\n",
        "print(x[0:3])"
      ],
      "metadata": {
        "colab": {
          "base_uri": "https://localhost:8080/"
        },
        "id": "UGlgmiiEnjq0",
        "outputId": "fdac119f-e410-431f-ab2a-1b3f0c4fabaa"
      },
      "execution_count": null,
      "outputs": [
        {
          "output_type": "stream",
          "name": "stdout",
          "text": [
            "program\n",
            "(5, 'program', (1+3j))\n"
          ]
        }
      ]
    },
    {
      "cell_type": "code",
      "source": [
        "x = (5, 'program', 1+3j)\n",
        "x[2] = 'polibatam'\n",
        "\n",
        "\n"
      ],
      "metadata": {
        "colab": {
          "base_uri": "https://localhost:8080/",
          "height": 217
        },
        "id": "22O6Oq51n5vp",
        "outputId": "a3f25adf-2029-44f7-e6b7-06ba38126f40"
      },
      "execution_count": null,
      "outputs": [
        {
          "output_type": "error",
          "ename": "TypeError",
          "evalue": "'tuple' object does not support item assignment",
          "traceback": [
            "\u001b[0;31m---------------------------------------------------------------------------\u001b[0m",
            "\u001b[0;31mTypeError\u001b[0m                                 Traceback (most recent call last)",
            "\u001b[0;32m/tmp/ipython-input-1047510291.py\u001b[0m in \u001b[0;36m<cell line: 0>\u001b[0;34m()\u001b[0m\n\u001b[1;32m      1\u001b[0m \u001b[0mx\u001b[0m \u001b[0;34m=\u001b[0m \u001b[0;34m(\u001b[0m\u001b[0;36m5\u001b[0m\u001b[0;34m,\u001b[0m \u001b[0;34m'program'\u001b[0m\u001b[0;34m,\u001b[0m \u001b[0;36m1\u001b[0m\u001b[0;34m+\u001b[0m\u001b[0;36m3j\u001b[0m\u001b[0;34m)\u001b[0m\u001b[0;34m\u001b[0m\u001b[0;34m\u001b[0m\u001b[0m\n\u001b[0;32m----> 2\u001b[0;31m \u001b[0mx\u001b[0m\u001b[0;34m[\u001b[0m\u001b[0;36m2\u001b[0m\u001b[0;34m]\u001b[0m \u001b[0;34m=\u001b[0m \u001b[0;34m'polibatam'\u001b[0m\u001b[0;34m\u001b[0m\u001b[0;34m\u001b[0m\u001b[0m\n\u001b[0m\u001b[1;32m      3\u001b[0m \u001b[0;34m\u001b[0m\u001b[0m\n\u001b[1;32m      4\u001b[0m \u001b[0;34m\u001b[0m\u001b[0m\n\u001b[1;32m      5\u001b[0m \u001b[0mprint\u001b[0m\u001b[0;34m(\u001b[0m\u001b[0mx\u001b[0m\u001b[0;34m)\u001b[0m\u001b[0;34m\u001b[0m\u001b[0;34m\u001b[0m\u001b[0m\n",
            "\u001b[0;31mTypeError\u001b[0m: 'tuple' object does not support item assignment"
          ]
        }
      ]
    },
    {
      "cell_type": "code",
      "source": [
        "x = {1, 2, 7, 2, 3, 13, 3}\n",
        "\n",
        "\n",
        "\n",
        "print(x)\n",
        "print(type(x))"
      ],
      "metadata": {
        "colab": {
          "base_uri": "https://localhost:8080/"
        },
        "id": "kKcJYRzoonHb",
        "outputId": "236b2ba4-5593-420e-8497-7ea88d05cc2e"
      },
      "execution_count": null,
      "outputs": [
        {
          "output_type": "stream",
          "name": "stdout",
          "text": [
            "{1, 2, 3, 7, 13}\n",
            "<class 'set'>\n"
          ]
        }
      ]
    },
    {
      "cell_type": "code",
      "source": [
        "set1 = {1, 2, 3, 4, 5}\n",
        "set2 = {4, 5, 6, 7, 8}\n",
        "\n",
        "\n",
        "\n",
        "\n",
        "union = set1.union(set2)\n",
        "print(\"union:\", union)\n",
        "\n",
        "\n",
        "\n",
        "intersection = set1.intersection(set2)\n",
        "print(\"intersection:\", intersection)"
      ],
      "metadata": {
        "colab": {
          "base_uri": "https://localhost:8080/"
        },
        "id": "3TMF0ahnpIIX",
        "outputId": "e924598d-3333-47ce-f43b-cd13519118ad"
      },
      "execution_count": null,
      "outputs": [
        {
          "output_type": "stream",
          "name": "stdout",
          "text": [
            "union: {1, 2, 3, 4, 5, 6, 7, 8}\n",
            "intersection: {4, 5}\n"
          ]
        }
      ]
    },
    {
      "cell_type": "code",
      "source": [
        "x = {'name': 'aldino eka putra', 'age': 20, 'isMarried': False }\n",
        "\n",
        "\n",
        "\n",
        "\n",
        "\n",
        "\n",
        "print(type(x))\n"
      ],
      "metadata": {
        "id": "X7hyfGYsp9zJ",
        "colab": {
          "base_uri": "https://localhost:8080/"
        },
        "outputId": "c8d01110-50f4-4da2-8cd1-423a83489890"
      },
      "execution_count": null,
      "outputs": [
        {
          "output_type": "stream",
          "name": "stdout",
          "text": [
            "<class 'dict'>\n"
          ]
        }
      ]
    },
    {
      "cell_type": "code",
      "source": [
        "x = { 'name': 'Aldino eka putra', 'age': 20,'isMarried': False }\n",
        "\n",
        "\n",
        "\n",
        "\n",
        "\n",
        "\n",
        "print(x[0])"
      ],
      "metadata": {
        "colab": {
          "base_uri": "https://localhost:8080/",
          "height": 181
        },
        "id": "lWZ4aRIRs0qZ",
        "outputId": "0be539f1-f1a4-4607-84bf-229054dd7152"
      },
      "execution_count": null,
      "outputs": [
        {
          "output_type": "error",
          "ename": "KeyError",
          "evalue": "0",
          "traceback": [
            "\u001b[0;31m---------------------------------------------------------------------------\u001b[0m",
            "\u001b[0;31mKeyError\u001b[0m                                  Traceback (most recent call last)",
            "\u001b[0;32m/tmp/ipython-input-3970677943.py\u001b[0m in \u001b[0;36m<cell line: 0>\u001b[0;34m()\u001b[0m\n\u001b[1;32m      6\u001b[0m \u001b[0;34m\u001b[0m\u001b[0m\n\u001b[1;32m      7\u001b[0m \u001b[0;34m\u001b[0m\u001b[0m\n\u001b[0;32m----> 8\u001b[0;31m \u001b[0mprint\u001b[0m\u001b[0;34m(\u001b[0m\u001b[0mx\u001b[0m\u001b[0;34m[\u001b[0m\u001b[0;36m0\u001b[0m\u001b[0;34m]\u001b[0m\u001b[0;34m)\u001b[0m\u001b[0;34m\u001b[0m\u001b[0;34m\u001b[0m\u001b[0m\n\u001b[0m",
            "\u001b[0;31mKeyError\u001b[0m: 0"
          ]
        }
      ]
    },
    {
      "cell_type": "code",
      "source": [
        "x = { 'name': 'Aldino eka putra', 'age': 20, 'isMarried': False }\n",
        "del x['isMarried']\n",
        "\n",
        "\n",
        "\n",
        "\n",
        "\n",
        "\n",
        "print(x)\n"
      ],
      "metadata": {
        "colab": {
          "base_uri": "https://localhost:8080/"
        },
        "id": "YSrPg8uVp2Sk",
        "outputId": "e9f7c6e6-2834-48a7-bd9a-732aef0a8e11"
      },
      "execution_count": null,
      "outputs": [
        {
          "output_type": "stream",
          "name": "stdout",
          "text": [
            "{'name': 'Aldino eka putra', 'age': 20}\n"
          ]
        }
      ]
    },
    {
      "cell_type": "code",
      "source": [
        "name = \"Aldino eka putra\"\n",
        "print(\"Nama saya {}\".format (name))"
      ],
      "metadata": {
        "id": "VcKW383IvcpF",
        "colab": {
          "base_uri": "https://localhost:8080/"
        },
        "outputId": "c335b72c-339b-442e-a0a8-54154959a4e7"
      },
      "execution_count": null,
      "outputs": [
        {
          "output_type": "stream",
          "name": "stdout",
          "text": [
            "Nama saya Aldino eka putra\n"
          ]
        }
      ]
    },
    {
      "cell_type": "code",
      "source": [
        "multi_line = \"\"\"halo gais apa kabar?, sehat!.\"\"\"\n",
        "print(multi_line)"
      ],
      "metadata": {
        "colab": {
          "base_uri": "https://localhost:8080/"
        },
        "id": "HerXBEGEuHCN",
        "outputId": "94ad6bbc-a980-4484-d4fa-8ce1e3830e9b"
      },
      "execution_count": null,
      "outputs": [
        {
          "output_type": "stream",
          "name": "stdout",
          "text": [
            "halo gais apa kabar?, sehat!.\n"
          ]
        }
      ]
    },
    {
      "cell_type": "code",
      "source": [
        "x = 'polibatam'\n",
        "print(type(x))"
      ],
      "metadata": {
        "colab": {
          "base_uri": "https://localhost:8080/"
        },
        "id": "4cwQNpzxubzN",
        "outputId": "3fa0c524-79ad-4567-b357-f13ac22b48cc"
      },
      "execution_count": null,
      "outputs": [
        {
          "output_type": "stream",
          "name": "stdout",
          "text": [
            "<class 'str'>\n"
          ]
        }
      ]
    },
    {
      "cell_type": "code",
      "source": [
        "#1TODO\n",
        "firsName = \"ALDINO\"\n",
        "lastName = \"PUTRA\"\n",
        "age = 21\n",
        "isMarried = False\n",
        "\n",
        "\n",
        "print(\"nama depan :\",firsName)\n",
        "print(\"nama belakang :\", lastName)\n",
        "print(\"umur :\", age)\n",
        "print(\"status menikah :\", isMarried)"
      ],
      "metadata": {
        "colab": {
          "base_uri": "https://localhost:8080/"
        },
        "id": "hiB82RqmwnTr",
        "outputId": "4849adf4-40a1-40ed-a97d-a87e3bad6482"
      },
      "execution_count": null,
      "outputs": [
        {
          "output_type": "stream",
          "name": "stdout",
          "text": [
            "nama depan : ALDINO\n",
            "nama belakang : PUTRA\n",
            "umur : 21\n",
            "status menikah : False\n"
          ]
        }
      ]
    },
    {
      "cell_type": "code",
      "source": [
        "#2TODO\n",
        "data_diri ={\n",
        "    \"firsName\": \"ALDINO\",\n",
        "    \"lastName\": \"PUTRA\",\n",
        "    \"age\": 21,\n",
        "    \"isMarried\": False\n",
        "}\n",
        "\n",
        "print(\"Data Diri\", data_diri)\n",
        "print(\"\\n=== BIODATA ===\")\n",
        "print(f\"Nama Depan        : {data_diri['firsName']}\")\n",
        "print(f\"Nama Belakang     : {data_diri['lastName']}\")\n",
        "print(f\"Umur              : {data_diri['age']} tahun\")\n",
        "print(f\"Status Pernikahan : {'Sudah Menikah' if data_diri['isMarried'] else 'Belum Menikah'}\")"
      ],
      "metadata": {
        "colab": {
          "base_uri": "https://localhost:8080/"
        },
        "id": "O7E0KYjkxzMo",
        "outputId": "1c54c9c4-a608-4072-883b-8ddaa0f8e335"
      },
      "execution_count": null,
      "outputs": [
        {
          "output_type": "stream",
          "name": "stdout",
          "text": [
            "Data Diri {'firsName': 'ALDINO', 'lastName': 'PUTRA', 'age': 21, 'isMarried': False}\n",
            "\n",
            "=== BIODATA ===\n",
            "Nama Depan        : ALDINO\n",
            "Nama Belakang     : PUTRA\n",
            "Umur              : 21 tahun\n",
            "Status Pernikahan : Belum Menikah\n"
          ]
        }
      ]
    },
    {
      "cell_type": "code",
      "source": [
        "inspeksi = [\n",
        "    \"Pemahaman terhadap rencana dan desain\",\n",
        "    \"Ketersediaan bahan dan peralatan\",\n",
        "    \"Pengawasan pekerjaan\",\n",
        "    \"Kualitas konstruksi\",\n",
        "    \"Keselamatan kerja\",\n",
        "    \"Koordinasi dengan pemilik proyek\",\n",
        "\n",
        "]\n",
        "print(\"daftar inspeksi\")\n",
        "for item in inspeksi:\n",
        "  print(\"_\", item)"
      ],
      "metadata": {
        "colab": {
          "base_uri": "https://localhost:8080/"
        },
        "id": "kpSRx-611_l7",
        "outputId": "0eb35000-17be-4078-d61e-a5dda77d4094"
      },
      "execution_count": null,
      "outputs": [
        {
          "output_type": "stream",
          "name": "stdout",
          "text": [
            "daftar inspeksi\n",
            "_ Pemahaman terhadap rencana dan desain\n",
            "_ Ketersediaan bahan dan peralatan\n",
            "_ Pengawasan pekerjaan\n",
            "_ Kualitas konstruksi\n",
            "_ Keselamatan kerja\n",
            "_ Koordinasi dengan pemilik proyek\n"
          ]
        }
      ]
    },
    {
      "cell_type": "code",
      "source": [
        "#4TODO\n",
        "StartTime = {\n",
        "    \"HH\": 9,\n",
        "    \"mm\": 23,\n",
        "    \"ss\": 57\n",
        "}\n",
        "EndTime = {\n",
        "    \"HH\": 15,\n",
        "    \"mm\": 25,\n",
        "    \"ss\": 43\n",
        "}\n",
        "print(\"Waktu Datang:\", StartTime)\n",
        "print(\"Waktu Pulang:\", EndTime)"
      ],
      "metadata": {
        "colab": {
          "base_uri": "https://localhost:8080/"
        },
        "id": "3o7lBf6-58dn",
        "outputId": "198992fe-d473-4845-b96e-593261a49dc9"
      },
      "execution_count": null,
      "outputs": [
        {
          "output_type": "stream",
          "name": "stdout",
          "text": [
            "Waktu Datang: {'HH': 9, 'mm': 23, 'ss': 57}\n",
            "Waktu Pulang: {'HH': 15, 'mm': 25, 'ss': 43}\n"
          ]
        }
      ]
    },
    {
      "cell_type": "code",
      "source": [
        "#5TODO\n",
        "\n",
        "katalog_A = {\"Laptop\", \"Smartphone\", \"Tablet\", \"Earphone\"}\n",
        "katalog_B = {\"Smartwatch\", \"Smartphone\", \"Laptop\", \"Kamera\"}\n",
        "produk_diskon ={\"Laptop\", \"Smartwatch\", \"Kamera\", \"charger\"}\n",
        "\n",
        "katalog_lengkap = katalog_A.union(katalog_B)\n",
        "print(\"katalog Lengkap:\", katalog_lengkap)\n",
        "\n",
        "produk_promo_aktif = katalog_lengkap.intersection(produk_diskon)\n",
        "print(\"Produk Promo Aktif:\", produk_promo_aktif)"
      ],
      "metadata": {
        "colab": {
          "base_uri": "https://localhost:8080/",
          "height": 109
        },
        "id": "XQUigh8LAfoT",
        "outputId": "de88306a-fec6-47d7-9786-92f1d219d479"
      },
      "execution_count": null,
      "outputs": [
        {
          "output_type": "error",
          "ename": "SyntaxError",
          "evalue": "unterminated string literal (detected at line 5) (ipython-input-2363687077.py, line 5)",
          "traceback": [
            "\u001b[0;36m  File \u001b[0;32m\"/tmp/ipython-input-2363687077.py\"\u001b[0;36m, line \u001b[0;32m5\u001b[0m\n\u001b[0;31m    produk_diskon =(\"Laptop, \"Smartwatch\", \"Kamera\", \"charger\")\u001b[0m\n\u001b[0m                                                             ^\u001b[0m\n\u001b[0;31mSyntaxError\u001b[0m\u001b[0;31m:\u001b[0m unterminated string literal (detected at line 5)\n"
          ]
        }
      ]
    }
  ]
}