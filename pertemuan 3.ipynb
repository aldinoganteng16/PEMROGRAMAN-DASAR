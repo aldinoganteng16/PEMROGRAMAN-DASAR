{
  "nbformat": 4,
  "nbformat_minor": 0,
  "metadata": {
    "colab": {
      "provenance": [],
      "authorship_tag": "ABX9TyOKt+EDCdyTnpFNIc91RpoG",
      "include_colab_link": true
    },
    "kernelspec": {
      "name": "python3",
      "display_name": "Python 3"
    },
    "language_info": {
      "name": "python"
    }
  },
  "cells": [
    {
      "cell_type": "markdown",
      "metadata": {
        "id": "view-in-github",
        "colab_type": "text"
      },
      "source": [
        "<a href=\"https://colab.research.google.com/github/aldinoganteng16/PEMROGRAMAN-DASAR/blob/main/pertemuan%203.ipynb\" target=\"_parent\"><img src=\"https://colab.research.google.com/assets/colab-badge.svg\" alt=\"Open In Colab\"/></a>"
      ]
    },
    {
      "cell_type": "code",
      "execution_count": null,
      "metadata": {
        "colab": {
          "base_uri": "https://localhost:8080/"
        },
        "id": "SaEvj6RdUUzp",
        "outputId": "3a1afdd9-6a4c-4908-82c8-86fde242bd88"
      },
      "outputs": [
        {
          "name": "stdout",
          "output_type": "stream",
          "text": [
            "berapa motor yang ada dirumah? : 3\n",
            "Siapa Nama Pemilik motor : udin ganteng\n"
          ]
        }
      ],
      "source": [
        "total = input(\"berapa motor yang ada dirumah? : \")\n",
        "Nama = input(\"Siapa Nama Pemilik motor\")\n",
        "\n"
      ]
    },
    {
      "cell_type": "code",
      "source": [
        "total = int (input(\"Berapa motor yang ada dirumah? : \"))\n",
        "Nama = str (input(\"siapa Nama Pemilik motor? : \"))"
      ],
      "metadata": {
        "colab": {
          "base_uri": "https://localhost:8080/"
        },
        "id": "SsuUSJwoW3Hi",
        "outputId": "70f95167-c434-42b4-c7a8-02ef70337672"
      },
      "execution_count": null,
      "outputs": [
        {
          "name": "stdout",
          "output_type": "stream",
          "text": [
            "Berapa motor yang ada dirumah? : 3\n",
            "siapa Nama Pemilik motor? : udin ngangak\n"
          ]
        }
      ]
    },
    {
      "cell_type": "code",
      "source": [
        "food = \"Ayam penyet\"\n",
        "print(\"Udin sedang memesan\", food)\n"
      ],
      "metadata": {
        "colab": {
          "base_uri": "https://localhost:8080/"
        },
        "id": "YQT5jAc9XfpC",
        "outputId": "b79848b8-910e-44ed-d531-67b7a872b393"
      },
      "execution_count": null,
      "outputs": [
        {
          "output_type": "stream",
          "name": "stdout",
          "text": [
            "Udin sedang memesan Ayam penyet\n"
          ]
        }
      ]
    },
    {
      "cell_type": "code",
      "source": [
        "food = \"Ikan bakar\"\n",
        "print(\"Asep sedang memesan\", food)\n",
        "print(\"Asep sedang memesan \"+ food)\n",
        "print(\"Asep sedang memesan %s\" % (food))"
      ],
      "metadata": {
        "colab": {
          "base_uri": "https://localhost:8080/"
        },
        "id": "foo1z6FwYtyH",
        "outputId": "1c3aa5bc-c4b9-400a-d871-ba9bb269d110"
      },
      "execution_count": null,
      "outputs": [
        {
          "output_type": "stream",
          "name": "stdout",
          "text": [
            "Asep sedang memesan Ikan bakar\n",
            "Asep sedang memesan Ikan bakar\n",
            "Asep sedang memesan Ikan bakar\n"
          ]
        }
      ]
    },
    {
      "cell_type": "code",
      "source": [
        "#kalkulator sederhana\n",
        "\n",
        "a = 25\n",
        "b = 5\n",
        "print(\"Penjualan:\", a + b)\n",
        "print(\"Pengurangan:\", a - b)\n",
        "print(\"Perkalian:\", a * b)\n",
        "print(\"Pembagian:\", a / b)"
      ],
      "metadata": {
        "colab": {
          "base_uri": "https://localhost:8080/"
        },
        "id": "7OqvaQqXZxBm",
        "outputId": "0771862d-21fc-45b9-85b9-25a4411f4d8b"
      },
      "execution_count": null,
      "outputs": [
        {
          "output_type": "stream",
          "name": "stdout",
          "text": [
            "Penjualan: 30\n",
            "Pengurangan: 20\n",
            "Perkalian: 125\n",
            "Pembagian: 5.0\n"
          ]
        }
      ]
    },
    {
      "cell_type": "code",
      "source": [
        "#mengecek bilangan\n",
        "\n",
        "bilangan = 12\n",
        "\n",
        "hasil = (bilangan > 0) and (bilangan % 2 == 0)\n",
        "print(\"Genap dan positif?\", hasil)"
      ],
      "metadata": {
        "colab": {
          "base_uri": "https://localhost:8080/"
        },
        "id": "pQkMkta6alWN",
        "outputId": "853204c4-75ca-4cc4-d989-037f96a88ab5"
      },
      "execution_count": null,
      "outputs": [
        {
          "output_type": "stream",
          "name": "stdout",
          "text": [
            "Genap dan positif? True\n"
          ]
        }
      ]
    },
    {
      "cell_type": "code",
      "source": [
        "#kalkulator kasir\n",
        "\n",
        "harga_makan = float(input(\"Berapa harga nasi goreng per porsi? \"))\n",
        "jumlah_makan = int(input(\"Berapa porsi yang anda beli? \"))\n",
        "total_makan = harga_makan * jumlah_makan\n",
        "\n",
        "print(f\"Harga makan per porsi = {harga_makan}, totalnya adalah {total_makan}\")"
      ],
      "metadata": {
        "colab": {
          "base_uri": "https://localhost:8080/"
        },
        "id": "X1itQ5YKdvN6",
        "outputId": "6f6deba8-b919-49cd-973c-4ce55efab9f5"
      },
      "execution_count": null,
      "outputs": [
        {
          "output_type": "stream",
          "name": "stdout",
          "text": [
            "Berapa harga nasi goreng per porsi? 18.000\n",
            "Berapa porsi yang anda beli? 8\n",
            "Harga makan per porsi = 18.0, totalnya adalah 144.0\n"
          ]
        }
      ]
    },
    {
      "cell_type": "code",
      "source": [
        "#konversi waktu\n",
        "\n",
        "total_detik = 6500\n",
        "jam = total_detik // 1500\n",
        "sisa_detik = total_detik % 4500\n",
        "menit = sisa_detik // 8\n",
        "detik = sisa_detik % 20\n",
        "\n",
        "print(f\"Hasil konversi: {jam} Jam, {menit} Menit, {detik} Detik\")"
      ],
      "metadata": {
        "colab": {
          "base_uri": "https://localhost:8080/"
        },
        "id": "FDQwHz2nfQd3",
        "outputId": "1466c7c9-738c-42a7-ff8a-be21dce5dce1"
      },
      "execution_count": null,
      "outputs": [
        {
          "output_type": "stream",
          "name": "stdout",
          "text": [
            "Hasil konversi: 4 Jam, 250 Menit, 0 Detik\n"
          ]
        }
      ]
    },
    {
      "cell_type": "code",
      "source": [
        "#MENGHITUNG NILAI AKHIR MAHASISWA\n",
        "\n",
        "tugas = 40\n",
        "uts = 70\n",
        "uas = 70\n",
        "nilai_akhir = (0.3 * tugas) + (0.3 * uts) + (0.4 * uas)\n",
        "\n",
        "print(\"Nilai akhir =\", nilai_akhir)"
      ],
      "metadata": {
        "colab": {
          "base_uri": "https://localhost:8080/"
        },
        "id": "8eJOmehhgXgI",
        "outputId": "f13f7f24-6989-4641-fb35-9236b4047657"
      },
      "execution_count": null,
      "outputs": [
        {
          "output_type": "stream",
          "name": "stdout",
          "text": [
            "Nilai akhir = 61.0\n"
          ]
        }
      ]
    },
    {
      "cell_type": "code",
      "source": [
        "nilai_mahasiswa = 90\n",
        "standar_kelulusan = 70\n",
        "apakah_lulus = nilai_mahasiswa >= standar_kelulusan\n",
        "perlu_remedial = nilai_mahasiswa < standar_kelulusan\n",
        "\n",
        "print(f\"Nilai Mahasiswa: {nilai_mahasiswa}\")\n",
        "print(f\"Standar Kelulusan: {standar_kelulusan}\")\n",
        "print(f\"Apakah Mahasiswa Lulus? {apakah_lulus}\")\n",
        "print(f\"Perlu Remedial? {perlu_remedial}\")"
      ],
      "metadata": {
        "colab": {
          "base_uri": "https://localhost:8080/"
        },
        "id": "5526N54QhSlN",
        "outputId": "8ebbebbe-97b2-43a6-bae9-c8a0b2ce170b"
      },
      "execution_count": null,
      "outputs": [
        {
          "output_type": "stream",
          "name": "stdout",
          "text": [
            "Nilai Mahasiswa: 90\n",
            "Standar Kelulusan: 70\n",
            "Apakah Mahasiswa Lulus? True\n",
            "Perlu Remedial? False\n"
          ]
        }
      ]
    },
    {
      "cell_type": "code",
      "source": [
        "#belanja dan diskon\n",
        "belanja = 750000\n",
        "diskon = (0, 0.3 * belanja)[belanja > 300000]\n",
        "total_harga = belanja - diskon\n",
        "\n",
        "print(\"Total harga setelah diskon =\", total_harga)"
      ],
      "metadata": {
        "colab": {
          "base_uri": "https://localhost:8080/"
        },
        "id": "vT47xksBjQAk",
        "outputId": "2cd16f82-ba7c-4d24-e55a-6df742c69d70"
      },
      "execution_count": null,
      "outputs": [
        {
          "output_type": "stream",
          "name": "stdout",
          "text": [
            "Total harga setelah diskon = 525000.0\n"
          ]
        }
      ]
    },
    {
      "cell_type": "code",
      "source": [
        "# Fungsi untuk mengecek apakah suatu tahun adalah tahun kabisat\n",
        "def cek_tahun_kabisat(tahun):\n",
        "    return (tahun % 4 == 0 and tahun % 100 != 0) or (tahun % 400 == 0)\n",
        "\n",
        "def input_tahun():\n",
        "    return int(input(\"Masukkan tahun: \"))\n",
        "\n",
        "def output_hasil(tahun, hasil):\n",
        "    if hasil:\n",
        "        print(f\"{tahun} adalah tahun kabisat.\")\n",
        "    else:\n",
        "        print(f\"{tahun} bukan tahun kabisat.\")\n",
        "\n",
        "def main():\n",
        "    tahun = input_tahun()\n",
        "    hasil = cek_tahun_kabisat(tahun)\n",
        "    output_hasil(tahun, hasil)\n",
        "\n",
        "\n",
        "main()\n"
      ],
      "metadata": {
        "colab": {
          "base_uri": "https://localhost:8080/"
        },
        "id": "GhO8-QC8oERY",
        "outputId": "e6b77294-6e5a-4a78-9b27-65aa95bbe1e9"
      },
      "execution_count": null,
      "outputs": [
        {
          "output_type": "stream",
          "name": "stdout",
          "text": [
            "Masukkan tahun: 5\n",
            "5 bukan tahun kabisat.\n"
          ]
        }
      ]
    },
    {
      "cell_type": "code",
      "source": [
        "# Program Kasir Sederhana\n",
        "\n",
        "def hitung_total_belanja(items, is_member):\n",
        "    subtotal = sum(items)\n",
        "    if is_member and subtotal > 100000:\n",
        "        diskon = 0.15 * subtotal\n",
        "    else:\n",
        "        diskon = 0\n",
        "    harga_setelah_diskon = subtotal - diskon\n",
        "    ppn = 0.11 * harga_setelah_diskon\n",
        "    total_akhir = harga_setelah_diskon + ppn\n",
        "\n",
        "    return subtotal, diskon, harga_setelah_diskon, ppn, total_akhir\n",
        "print(\"Program Kasir Sederhana\")\n",
        "jumlah_item = int(input(\"Masukkan jumlah item yang dibeli: \"))\n",
        "items = [2]\n",
        "for i in range(jumlah_item):\n",
        "    harga = float(input(f\"Masukkan harga item ke-{i+1}: Rp \"))\n",
        "    items.append(harga)\n",
        "\n",
        "member_input = input(\"Apakah pelanggan anggota (member)? (y/n): \").lower()\n",
        "is_member = True if member_input == 'y' else False\n",
        "\n",
        "subtotal, diskon, harga_setelah_diskon, ppn, total_akhir = hitung_total_belanja(items, is_member)\n",
        "print(\"\\n--- Rincian Pembayaran ---\")\n",
        "print(f\"Subtotal: Rp {subtotal:,.2f}\")\n",
        "print(f\"Diskon: Rp {diskon:,.2f}\")\n",
        "print(f\"Harga Setelah Diskon: Rp {harga_setelah_diskon:,.2f}\")\n",
        "print(f\"PPN (11%): Rp {ppn:,.2f}\")\n",
        "print(f\"Total Akhir: Rp {total_akhir:,.2f}\")\n"
      ],
      "metadata": {
        "colab": {
          "base_uri": "https://localhost:8080/"
        },
        "id": "eStl_bw4qJE6",
        "outputId": "bb7a43d2-c5b8-4c94-9b78-763483c9e27a"
      },
      "execution_count": null,
      "outputs": [
        {
          "output_type": "stream",
          "name": "stdout",
          "text": [
            "Program Kasir Sederhana\n",
            "Masukkan jumlah item yang dibeli: 2\n",
            "Masukkan harga item ke-1: Rp 50000\n",
            "Masukkan harga item ke-2: Rp 32000\n",
            "Apakah pelanggan anggota (member)? (y/n): y\n",
            "\n",
            "--- Rincian Pembayaran ---\n",
            "Subtotal: Rp 82,002.00\n",
            "Diskon: Rp 0.00\n",
            "Harga Setelah Diskon: Rp 82,002.00\n",
            "PPN (11%): Rp 9,020.22\n",
            "Total Akhir: Rp 91,022.22\n"
          ]
        }
      ]
    }
  ]
}